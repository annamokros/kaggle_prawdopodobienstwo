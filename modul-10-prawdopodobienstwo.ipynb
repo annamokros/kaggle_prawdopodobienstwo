{
 "cells": [
  {
   "cell_type": "code",
   "execution_count": 1,
   "id": "c607b300",
   "metadata": {
    "_cell_guid": "b1076dfc-b9ad-4769-8c92-a6c4dae69d19",
    "_uuid": "8f2839f25d086af736a60e9eeb907d3b93b6e0e5",
    "execution": {
     "iopub.execute_input": "2023-03-03T19:11:13.402856Z",
     "iopub.status.busy": "2023-03-03T19:11:13.402440Z",
     "iopub.status.idle": "2023-03-03T19:11:13.412768Z",
     "shell.execute_reply": "2023-03-03T19:11:13.411793Z"
    },
    "papermill": {
     "duration": 0.019514,
     "end_time": "2023-03-03T19:11:13.414755",
     "exception": false,
     "start_time": "2023-03-03T19:11:13.395241",
     "status": "completed"
    },
    "tags": []
   },
   "outputs": [],
   "source": [
    "# This Python 3 environment comes with many helpful analytics libraries installed\n",
    "# It is defined by the kaggle/python Docker image: https://github.com/kaggle/docker-python\n",
    "# For example, here's several helpful packages to load\n",
    "\n",
    "import numpy as np # linear algebra\n",
    "import pandas as pd # data processing, CSV file I/O (e.g. pd.read_csv)\n",
    "\n",
    "# Input data files are available in the read-only \"../input/\" directory\n",
    "# For example, running this (by clicking run or pressing Shift+Enter) will list all files under the input directory\n",
    "\n",
    "import os\n",
    "for dirname, _, filenames in os.walk('/kaggle/input'):\n",
    "    for filename in filenames:\n",
    "        print(os.path.join(dirname, filename))\n",
    "\n",
    "# You can write up to 20GB to the current directory (/kaggle/working/) that gets preserved as output when you create a version using \"Save & Run All\" \n",
    "# You can also write temporary files to /kaggle/temp/, but they won't be saved outside of the current session"
   ]
  },
  {
   "cell_type": "code",
   "execution_count": 2,
   "id": "7e88037d",
   "metadata": {
    "execution": {
     "iopub.execute_input": "2023-03-03T19:11:13.421485Z",
     "iopub.status.busy": "2023-03-03T19:11:13.421071Z",
     "iopub.status.idle": "2023-03-03T19:11:13.426893Z",
     "shell.execute_reply": "2023-03-03T19:11:13.425649Z"
    },
    "papermill": {
     "duration": 0.011717,
     "end_time": "2023-03-03T19:11:13.429163",
     "exception": false,
     "start_time": "2023-03-03T19:11:13.417446",
     "status": "completed"
    },
    "tags": []
   },
   "outputs": [],
   "source": [
    "import matplotlib.pyplot as plt"
   ]
  },
  {
   "cell_type": "code",
   "execution_count": 3,
   "id": "7ee126ce",
   "metadata": {
    "execution": {
     "iopub.execute_input": "2023-03-03T19:11:13.435801Z",
     "iopub.status.busy": "2023-03-03T19:11:13.435463Z",
     "iopub.status.idle": "2023-03-03T19:11:14.193357Z",
     "shell.execute_reply": "2023-03-03T19:11:14.191919Z"
    },
    "papermill": {
     "duration": 0.76372,
     "end_time": "2023-03-03T19:11:14.195597",
     "exception": false,
     "start_time": "2023-03-03T19:11:13.431877",
     "status": "completed"
    },
    "tags": []
   },
   "outputs": [],
   "source": [
    "from scipy.stats import norm"
   ]
  },
  {
   "cell_type": "code",
   "execution_count": 4,
   "id": "a6ac2656",
   "metadata": {
    "execution": {
     "iopub.execute_input": "2023-03-03T19:11:14.202383Z",
     "iopub.status.busy": "2023-03-03T19:11:14.202058Z",
     "iopub.status.idle": "2023-03-03T19:11:14.211480Z",
     "shell.execute_reply": "2023-03-03T19:11:14.210464Z"
    },
    "papermill": {
     "duration": 0.015571,
     "end_time": "2023-03-03T19:11:14.213966",
     "exception": false,
     "start_time": "2023-03-03T19:11:14.198395",
     "status": "completed"
    },
    "tags": []
   },
   "outputs": [],
   "source": [
    "#Geerowanie losowych rozkładow o liczebnosci 100 i 100000, z srednia=3 i odchyleniem standardowym=1\n",
    "normal1 = pd.DataFrame(np.random.normal(3,1,100))\n",
    "normal1.columns = ['values1']\n",
    "normal2 = pd.DataFrame(np.random.normal(3,1,10000))\n",
    "normal2.columns = ['values2']"
   ]
  },
  {
   "cell_type": "code",
   "execution_count": 5,
   "id": "242dcda6",
   "metadata": {
    "execution": {
     "iopub.execute_input": "2023-03-03T19:11:14.221226Z",
     "iopub.status.busy": "2023-03-03T19:11:14.220837Z",
     "iopub.status.idle": "2023-03-03T19:11:14.511941Z",
     "shell.execute_reply": "2023-03-03T19:11:14.510598Z"
    },
    "papermill": {
     "duration": 0.298017,
     "end_time": "2023-03-03T19:11:14.514750",
     "exception": false,
     "start_time": "2023-03-03T19:11:14.216733",
     "status": "completed"
    },
    "tags": []
   },
   "outputs": [
    {
     "data": {
      "text/plain": [
       "(array([ 3.,  8., 13., 12., 22., 13.,  5., 12.,  8.,  4.]),\n",
       " array([0.81098824, 1.27463902, 1.73828979, 2.20194057, 2.66559135,\n",
       "        3.12924213, 3.59289291, 4.05654369, 4.52019447, 4.98384525,\n",
       "        5.44749603]),\n",
       " <BarContainer object of 10 artists>)"
      ]
     },
     "execution_count": 5,
     "metadata": {},
     "output_type": "execute_result"
    },
    {
     "data": {
      "image/png": "[encoded data removed]",
      "text/plain": [
       "<Figure size 640x480 with 1 Axes>"
      ]
     },
     "metadata": {},
     "output_type": "display_data"
    }
   ],
   "source": [
    "plt.hist(normal1)"
   ]
  },
  {
   "cell_type": "code",
   "execution_count": 6,
   "id": "28cdd99d",
   "metadata": {
    "execution": {
     "iopub.execute_input": "2023-03-03T19:11:14.522931Z",
     "iopub.status.busy": "2023-03-03T19:11:14.522473Z",
     "iopub.status.idle": "2023-03-03T19:11:14.700630Z",
     "shell.execute_reply": "2023-03-03T19:11:14.699449Z"
    },
    "papermill": {
     "duration": 0.184971,
     "end_time": "2023-03-03T19:11:14.703141",
     "exception": false,
     "start_time": "2023-03-03T19:11:14.518170",
     "status": "completed"
    },
    "tags": []
   },
   "outputs": [
    {
     "data": {
      "text/plain": [
       "(array([  19.,   95.,  459., 1344., 2446., 2715., 1915.,  781.,  199.,\n",
       "          27.]),\n",
       " array([-7.13543657e-01, -3.57133637e-03,  7.06400984e-01,  1.41637330e+00,\n",
       "         2.12634562e+00,  2.83631795e+00,  3.54629027e+00,  4.25626259e+00,\n",
       "         4.96623491e+00,  5.67620723e+00,  6.38617955e+00]),\n",
       " <BarContainer object of 10 artists>)"
      ]
     },
     "execution_count": 6,
     "metadata": {},
     "output_type": "execute_result"
    },
    {
     "data": {
      "image/png": "[encoded data removed]",
      "text/plain": [
       "<Figure size 640x480 with 1 Axes>"
      ]
     },
     "metadata": {},
     "output_type": "display_data"
    }
   ],
   "source": [
    "plt.hist(normal2)"
   ]
  },
  {
   "cell_type": "code",
   "execution_count": 7,
   "id": "1473b0dc",
   "metadata": {
    "execution": {
     "iopub.execute_input": "2023-03-03T19:11:14.711183Z",
     "iopub.status.busy": "2023-03-03T19:11:14.710820Z",
     "iopub.status.idle": "2023-03-03T19:11:14.727311Z",
     "shell.execute_reply": "2023-03-03T19:11:14.725892Z"
    },
    "papermill": {
     "duration": 0.02307,
     "end_time": "2023-03-03T19:11:14.729635",
     "exception": false,
     "start_time": "2023-03-03T19:11:14.706565",
     "status": "completed"
    },
    "tags": []
   },
   "outputs": [
    {
     "name": "stdout",
     "output_type": "stream",
     "text": [
      "Q0: 1.0\n",
      "Q1: 2.0\n",
      "Q2: 3.0\n",
      "Q3: 4.0\n",
      "Q4: 5.0\n",
      "Mean: 3.0\n"
     ]
    }
   ],
   "source": [
    "#Statystyki dla rozkładu normal1: 3-1-100\n",
    "mean1 = np.round(np.mean(normal1.values1))\n",
    "median1 = np.round(np.median(normal1.values1))\n",
    "q0 = np.round(np.quantile(normal1.values1, 0.0))\n",
    "q1 = np.round(np.quantile(normal1.values1, 0.25))\n",
    "q3 = np.round(np.quantile(normal1.values1, 0.75))\n",
    "q4 = np.round(np.quantile(normal1.values1, 1.0))\n",
    "print(f'Q0: {q0}')\n",
    "print(f'Q1: {q1}')\n",
    "print(f'Q2: {median1}')\n",
    "print(f'Q3: {q3}')\n",
    "print(f'Q4: {q4}')\n",
    "print(f'Mean: {mean1}')"
   ]
  },
  {
   "cell_type": "code",
   "execution_count": 8,
   "id": "9ac7dbfe",
   "metadata": {
    "execution": {
     "iopub.execute_input": "2023-03-03T19:11:14.738157Z",
     "iopub.status.busy": "2023-03-03T19:11:14.737742Z",
     "iopub.status.idle": "2023-03-03T19:11:14.749372Z",
     "shell.execute_reply": "2023-03-03T19:11:14.748097Z"
    },
    "papermill": {
     "duration": 0.018899,
     "end_time": "2023-03-03T19:11:14.752085",
     "exception": false,
     "start_time": "2023-03-03T19:11:14.733186",
     "status": "completed"
    },
    "tags": []
   },
   "outputs": [
    {
     "name": "stdout",
     "output_type": "stream",
     "text": [
      "Q0: -1.0\n",
      "Q1: 2.0\n",
      "Q2: 3.0\n",
      "Q3: 4.0\n",
      "Q4: 6.0\n",
      "Mean: 3.0\n"
     ]
    }
   ],
   "source": [
    "#Statystyki dla rozkładu normal2: 3-1-10000\n",
    "mean2 = np.round(np.mean(normal2.values2))\n",
    "median2 = np.round(np.median(normal2.values2))\n",
    "q0 = np.round(np.quantile(normal2.values2, 0.0))\n",
    "q1 = np.round(np.quantile(normal2.values2, 0.25))\n",
    "q3 = np.round(np.quantile(normal2.values2, 0.75))\n",
    "q4 = np.round(np.quantile(normal2.values2, 1.0))\n",
    "print(f'Q0: {q0}')\n",
    "print(f'Q1: {q1}')\n",
    "print(f'Q2: {median2}')\n",
    "print(f'Q3: {q3}')\n",
    "print(f'Q4: {q4}')\n",
    "print(f'Mean: {mean2}')"
   ]
  }
 ],
 "metadata": {
  "kernelspec": {
   "display_name": "Python 3",
   "language": "python",
   "name": "python3"
  },
  "language_info": {
   "codemirror_mode": {
    "name": "ipython",
    "version": 3
   },
   "file_extension": ".py",
   "mimetype": "text/x-python",
   "name": "python",
   "nbconvert_exporter": "python",
   "pygments_lexer": "ipython3",
   "version": "3.7.12"
  },
  "papermill": {
   "default_parameters": {},
   "duration": 10.681546,
   "end_time": "2023-03-03T19:11:15.477259",
   "environment_variables": {},
   "exception": null,
   "input_path": "__notebook__.ipynb",
   "output_path": "__notebook__.ipynb",
   "parameters": {},
   "start_time": "2023-03-03T19:11:04.795713",
   "version": "2.3.4"
  }
 },
 "nbformat": 4,
 "nbformat_minor": 5
}
